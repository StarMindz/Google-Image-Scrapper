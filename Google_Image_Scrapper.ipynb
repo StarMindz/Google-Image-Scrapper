{
  "nbformat": 4,
  "nbformat_minor": 0,
  "metadata": {
    "colab": {
      "provenance": [],
      "authorship_tag": "ABX9TyOW368OsWw//4d7fPkToadO",
      "include_colab_link": true
    },
    "kernelspec": {
      "name": "python3",
      "display_name": "Python 3"
    },
    "language_info": {
      "name": "python"
    }
  },
  "cells": [
    {
      "cell_type": "markdown",
      "metadata": {
        "id": "view-in-github",
        "colab_type": "text"
      },
      "source": [
        "<a href=\"https://colab.research.google.com/github/StarMindz/Google-Image-Scrapper/blob/main/Google_Image_Scrapper.ipynb\" target=\"_parent\"><img src=\"https://colab.research.google.com/assets/colab-badge.svg\" alt=\"Open In Colab\"/></a>"
      ]
    },
    {
      "cell_type": "markdown",
      "source": [
        "# Google Image Scrapper"
      ],
      "metadata": {
        "id": "Z6NAVnc9Qjfd"
      }
    },
    {
      "cell_type": "markdown",
      "source": [
        "This script is designed for scraping both high-quality and low-quality images from the internet using a set of search terms. It includes codes for scraping full size images from Google. You can specify the number of images you wish to scrape and the directory on your computer where you'd like to store them. For each search term in your list, a folder will be automatically created with the same name as the search term, and the specified number of images will be downloaded automatically.\n",
        "\n",
        "Here, a list of popular Nigerian foods is used, making this script useful for gathering image datasets for machine learning training and general AI model training."
      ],
      "metadata": {
        "id": "nZAFoZPlQo67"
      }
    },
    {
      "cell_type": "code",
      "source": [
        "!pip install selenium\n",
        "!pip install selenium_stealth\n",
        "!import pillow"
      ],
      "metadata": {
        "id": "xg5tWzSjRsbr"
      },
      "execution_count": null,
      "outputs": []
    },
    {
      "cell_type": "code",
      "execution_count": null,
      "metadata": {
        "id": "rbH-ceoF9ZG1"
      },
      "outputs": [],
      "source": [
        "import os\n",
        "import time\n",
        "import requests\n",
        "from PIL import Image\n",
        "from selenium.webdriver.common.by import By\n",
        "from selenium.webdriver.common.keys import Keys\n",
        "from selenium.webdriver.support.ui import WebDriverWait\n",
        "from selenium.webdriver.chrome.service import Service\n",
        "from selenium.webdriver.support import expected_conditions as EC\n",
        "from selenium import webdriver\n",
        "import io\n",
        "from datetime import datetime"
      ]
    },
    {
      "cell_type": "code",
      "source": [
        "nigerian_dishes = [\n",
        "    \"Jollof Rice\", \"Egusi Soup\", \"Efo Riro\", \"Banga Soup\", \"ofada rice and ofada sauce\",\n",
        "    \"Edikang Ikong Soup\", \"Amala and gbegiri with ewedu soup\", \"Ogbono Soup\", \"Nkwobi\", \"Afang Soup\", \"Tuwo\", \"Waina masa\", \"Fried Plantain\", \"Miyan Taushe\",\n",
        "    \"Oha Soup\", \"Beans porridge and plantain\", \"Bitterleaf Soup\", \"Ofe Nsala\", \"Suya\"\n",
        "   \"Yam Porridge\", \"Okra soup\",\"Pepper Soup\", \"Pounded yam\", \"Eba\", \"Garri and Groundnut\", \"Moi Moi\", \"Abacha and Ugba\", \"Adalu\"\n",
        "]"
      ],
      "metadata": {
        "id": "gRwNn8QJP7Xc"
      },
      "execution_count": null,
      "outputs": []
    },
    {
      "cell_type": "code",
      "source": [
        "def prepare_browser():\n",
        "    chrome_options = webdriver.ChromeOptions()\n",
        "    chrome_options.add_argument(\"start-maximized\")\n",
        "    driver = webdriver.Chrome(options=chrome_options)\n",
        "    return driver"
      ],
      "metadata": {
        "id": "-zkNi_cIP9Xr"
      },
      "execution_count": null,
      "outputs": []
    },
    {
      "cell_type": "code",
      "source": [
        "def download_single_image(image_url, search_term, save_dir):\n",
        "    if not os.path.exists(save_dir):\n",
        "        os.makedirs(save_dir)\n",
        "\n",
        "    if image_url and 'https' in image_url:\n",
        "        try:\n",
        "            img_data = requests.get(image_url).content\n",
        "            timestamp = datetime.now().strftime(\"%Y%m%d%H%M%S%f\")\n",
        "            img_file = os.path.join(save_dir, f\"{search_term}_{timestamp}.jpg\")\n",
        "            with open(img_file, 'wb') as handler:\n",
        "                handler.write(img_data)\n",
        "            print(f\"Image downloaded: {img_file}\")\n",
        "        except Exception as e:\n",
        "            print(f\"Could not download {image_url}: {e}\")"
      ],
      "metadata": {
        "id": "D-xWRfSDQB_K"
      },
      "execution_count": null,
      "outputs": []
    },
    {
      "cell_type": "code",
      "source": [
        "def scrape_google_images(search_term, save_dir, max_images=1000):\n",
        "    driver = prepare_browser()\n",
        "    search_url = f'https://www.google.com/search?hl=en&tbm=isch&q={search_term}'\n",
        "    driver.get(search_url)\n",
        "    print(f\"Searching for {search_term} on Google Images\")\n",
        "    time.sleep(2)\n",
        "\n",
        "    downloaded_count = 0\n",
        "    image_srcs = set()\n",
        "    pins_seen = set()\n",
        "\n",
        "    while downloaded_count < max_images:\n",
        "        thumbnails = driver.find_elements(By.CSS_SELECTOR, \"img[class='YQ4gaf']\")\n",
        "        images = [img for img in thumbnails if img.is_displayed()]\n",
        "        print(\"here are the thumbnails\", thumbnails)\n",
        "\n",
        "        for img in images:  # Avoid reprocessing already processed thumbnails\n",
        "            if downloaded_count >= max_images:\n",
        "                break\n",
        "\n",
        "            if img not in pins_seen:\n",
        "#                 img_src= img.get_attribute('src')\n",
        "                driver.execute_script(\"arguments[0].click();\", img)\n",
        "                print(\"Collected Image \", img)\n",
        "                time.sleep(3)  # Wait for the pin to open\n",
        "#                 Re-locate the full image element\n",
        "                try:\n",
        "                    full_image = WebDriverWait(driver, 10).until(\n",
        "                        EC.presence_of_element_located((By.XPATH, '//img[contains(@class, \"sFlh5c pT0Scc iPVvYb\")]'))\n",
        "                    )\n",
        "                except:\n",
        "                    pass\n",
        "                try:\n",
        "                    full_image_url = full_image.get_attribute('src')\n",
        "                    print(\"The full image src\", full_image_url)\n",
        "                    download_single_image(full_image_url, search_term, save_dir)\n",
        "                    downloaded_count += 1\n",
        "                    pins_seen.add(img_src)\n",
        "                except:\n",
        "                    pass\n",
        "\n",
        "        # Clear processed image_srcs and load more content if necessary\n",
        "        image_srcs.clear()\n"
      ],
      "metadata": {
        "id": "unbU-o0WQKUL"
      },
      "execution_count": null,
      "outputs": []
    },
    {
      "cell_type": "code",
      "source": [
        "def main():\n",
        "    base_dir = r'C:\\Users\\STARMINDS\\Desktop\\Projects\\Data'\n",
        "    nigerian_dishes = [\"Jollof Rice\"]\n",
        "    max_images = 300\n",
        "\n",
        "    for dish in nigerian_dishes:\n",
        "        save_dir = os.path.join(base_dir, dish)\n",
        "        scrape_google_images(dish, save_dir, max_images)\n"
      ],
      "metadata": {
        "id": "nOVP13ILQZU6"
      },
      "execution_count": null,
      "outputs": []
    },
    {
      "cell_type": "code",
      "source": [
        "if __name__ == '__main__':\n",
        "    main()"
      ],
      "metadata": {
        "id": "yO9brTXQQbca"
      },
      "execution_count": null,
      "outputs": []
    }
  ]
}